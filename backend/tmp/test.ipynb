{
 "cells": [
  {
   "cell_type": "code",
   "execution_count": 2,
   "metadata": {},
   "outputs": [],
   "source": [
    "import datetime\n",
    "\n",
    "data = {'violation_id': '08aac55e-f08d-4426-aa15-5e06fcc46dbc', 'camera_id': '8be6d3c5-dc29-4377-853e-8f0df9cf163b', 'session_id': '75bd3bc4-c335-42dc-837e-bb6bbe13d7bd', 'violation_type': 'no_helmet', 'vehicle_type': 'motorbike', 'confidence': 0.9100000262260437, 'timestamp': datetime.datetime(2025, 7, 17, 18, 6, 56, 594000, tzinfo=datetime.timezone.utc), 'frame_img_url': 'violations/2025.05.27/02079954-93eb-49e4-b234-2373f4031a4b/frame.jpg', 'vehicle_img_url': 'violations/2025.05.27/02079954-93eb-49e4-b234-2373f4031a4b/vehicle.jpg'}\n",
    " "
   ]
  },
  {
   "cell_type": "code",
   "execution_count": 5,
   "metadata": {},
   "outputs": [],
   "source": [
    "dt_utc = data['timestamp']\n",
    "dt_naive = dt_utc.replace(tzinfo=None)\n"
   ]
  },
  {
   "cell_type": "code",
   "execution_count": 14,
   "metadata": {},
   "outputs": [
    {
     "data": {
      "text/plain": [
       "'2025-07-17 18:06:56.594000'"
      ]
     },
     "execution_count": 14,
     "metadata": {},
     "output_type": "execute_result"
    }
   ],
   "source": [
    "str(dt_naive)"
   ]
  },
  {
   "cell_type": "code",
   "execution_count": 17,
   "metadata": {},
   "outputs": [
    {
     "data": {
      "text/plain": [
       "datetime.datetime(2025, 7, 17, 18, 6, 52, 328203, tzinfo=datetime.timezone.utc)"
      ]
     },
     "execution_count": 17,
     "metadata": {},
     "output_type": "execute_result"
    }
   ],
   "source": [
    "from datetime import datetime, timezone, timedelta\n",
    "datetime.now(timezone.utc) - timedelta(minutes=10)\n"
   ]
  },
  {
   "cell_type": "code",
   "execution_count": 11,
   "metadata": {},
   "outputs": [
    {
     "data": {
      "text/plain": [
       "'2025-07-18 01:14:43.523080'"
      ]
     },
     "execution_count": 11,
     "metadata": {},
     "output_type": "execute_result"
    }
   ],
   "source": [
    "str(datetime.datetime.now())"
   ]
  },
  {
   "cell_type": "code",
   "execution_count": null,
   "metadata": {},
   "outputs": [
    {
     "data": {
      "text/plain": [
       "{'camera_id': '8be6d3c5-dc29-4377-853e-8f0df9cf163b',\n",
       " 'video_url': 'cameras/03/1.mp4',\n",
       " 'roi': [{'x': 73, 'y': 718},\n",
       "  {'x': 342, 'y': 330},\n",
       "  {'x': 1061, 'y': 323},\n",
       "  {'x': 1076, 'y': 331},\n",
       "  {'x': 1019, 'y': 394},\n",
       "  {'x': 1009, 'y': 453},\n",
       "  {'x': 1026, 'y': 509},\n",
       "  {'x': 1052, 'y': 572},\n",
       "  {'x': 1096, 'y': 649},\n",
       "  {'x': 1141, 'y': 717}],\n",
       " 'stop_line': [{'x': 154, 'y': 566}, {'x': 1066, 'y': 541}],\n",
       " 'light_roi': [{'x': 650, 'y': 5},\n",
       "  {'x': 700, 'y': 5},\n",
       "  {'x': 700, 'y': 50},\n",
       "  {'x': 650, 'y': 50}],\n",
       " 'detection_type': 'light',\n",
       " 'lanes': [{'id': 1,\n",
       "   'polygon': [{'x': 76, 'y': 717},\n",
       "    {'x': 274, 'y': 417},\n",
       "    {'x': 543, 'y': 422},\n",
       "    {'x': 492, 'y': 719}],\n",
       "   'allow_labels': ['car', 'truck']},\n",
       "  {'id': 2,\n",
       "   'polygon': [{'x': 492, 'y': 719},\n",
       "    {'x': 543, 'y': 422},\n",
       "    {'x': 758, 'y': 440},\n",
       "    {'x': 790, 'y': 717}],\n",
       "   'allow_labels': ['motorcycle', 'bicycle']},\n",
       "  {'id': 3,\n",
       "   'polygon': [{'x': 790, 'y': 717},\n",
       "    {'x': 758, 'y': 440},\n",
       "    {'x': 1009, 'y': 429},\n",
       "    {'x': 1172, 'y': 719}],\n",
       "   'allow_labels': ['car', 'motorcycle', 'truck', 'bicycle']}]}"
      ]
     },
     "execution_count": 2,
     "metadata": {},
     "output_type": "execute_result"
    },
    {
     "ename": "",
     "evalue": "",
     "output_type": "error",
     "traceback": [
      "\u001b[1;31mThe Kernel crashed while executing code in the current cell or a previous cell. \n",
      "\u001b[1;31mPlease review the code in the cell(s) to identify a possible cause of the failure. \n",
      "\u001b[1;31mClick <a href='https://aka.ms/vscodeJupyterKernelCrash'>here</a> for more info. \n",
      "\u001b[1;31mView Jupyter <a href='command:jupyter.viewOutput'>log</a> for further details."
     ]
    }
   ],
   "source": [
    "def convert_point_list(points):\n",
    "    return [{\"x\": x, \"y\": y} for (x, y) in points]\n",
    "\n",
    "def prepare_params(params):\n",
    "    return {\n",
    "        \"camera_id\": params['camera_id'],\n",
    "        \"video_url\": params['video_url'],\n",
    "        \"roi\": convert_point_list(params[\"roi\"]),\n",
    "        \"stop_line\": convert_point_list(params[\"stop_line\"]),\n",
    "        \"light_roi\": convert_point_list(params[\"light_roi\"]),\n",
    "        \"detection_type\": params[\"detection_type\"],\n",
    "        \"lanes\": [\n",
    "            {\n",
    "                \"id\": lane[\"id\"],\n",
    "                \"polygon\": convert_point_list(lane[\"polygon\"]),\n",
    "                \"allow_labels\": lane[\"allow_labels\"]\n",
    "            }\n",
    "            for lane in params[\"lanes\"]\n",
    "        ]\n",
    "    }\n",
    "# === Params chuẩn hóa === #\n",
    "raw_params = {\n",
    "    \"camera_id\": \"8be6d3c5-dc29-4377-853e-8f0df9cf163b\",\n",
    "    \"video_url\": \"cameras/03/1.mp4\",\n",
    "    \"roi\": [(73, 718), (342, 330), (1061, 323), (1076, 331), (1019, 394), (1009, 453), (1026, 509), (1052, 572), (1096, 649), (1141, 717)],\n",
    "    \"stop_line\": [(154, 566), (1066, 541)],\n",
    "    \"light_roi\": [(650, 5), (700, 5), (700, 50), (650, 50)],\n",
    "    \"detection_type\": \"light\",\n",
    "    \"lanes\": [\n",
    "        {\n",
    "            \"id\": 1,\n",
    "            \"polygon\": [(76, 717), (274, 417), (543, 422), (492, 719)],\n",
    "            \"allow_labels\": [\"car\", \"truck\"]\n",
    "        },\n",
    "        {\n",
    "            \"id\": 2,\n",
    "            \"polygon\": [(492, 719), (543, 422), (758, 440), (790, 717)],\n",
    "            \"allow_labels\": [\"motorcycle\", \"bicycle\"]\n",
    "        },\n",
    "        {\n",
    "            \"id\": 3,\n",
    "            \"polygon\": [(790, 717), (758, 440), (1009, 429), (1172, 719)],\n",
    "            \"allow_labels\": [\"car\", \"motorcycle\", \"truck\", \"bicycle\"]\n",
    "        }\n",
    "    ]\n",
    "}\n",
    "prepare_params(raw_params)\n"
   ]
  },
  {
   "cell_type": "code",
   "execution_count": null,
   "metadata": {},
   "outputs": [],
   "source": [
    "prepa"
   ]
  }
 ],
 "metadata": {
  "kernelspec": {
   "display_name": "traffic-violations",
   "language": "python",
   "name": "python3"
  },
  "language_info": {
   "codemirror_mode": {
    "name": "ipython",
    "version": 3
   },
   "file_extension": ".py",
   "mimetype": "text/x-python",
   "name": "python",
   "nbconvert_exporter": "python",
   "pygments_lexer": "ipython3",
   "version": "3.12.9"
  }
 },
 "nbformat": 4,
 "nbformat_minor": 2
}
